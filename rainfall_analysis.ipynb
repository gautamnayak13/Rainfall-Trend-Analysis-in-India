{
 "cells": [
  {
   "cell_type": "markdown",
   "metadata": {},
   "source": [
    "Beginning by loading and exploring the dataset, which contains rainfall data for India from 1901 to 2015. Each record provides monthly, seasonal, and annual rainfall measurements."
   ]
  },
  {
   "cell_type": "code",
   "execution_count": 10,
   "metadata": {},
   "outputs": [
    {
     "name": "stdout",
     "output_type": "stream",
     "text": [
      "  REGION  YEAR   JAN   FEB   MAR   APR   MAY    JUN    JUL    AUG    SEP  \\\n",
      "0  INDIA  1901  34.7  37.7  18.0  39.3  50.8  113.4  242.2  272.9  124.4   \n",
      "1  INDIA  1902   7.4   4.3  19.0  43.5  48.3  108.8  284.0  199.7  201.5   \n",
      "2  INDIA  1903  17.0   8.3  31.3  17.1  59.5  118.3  297.0  270.4  199.1   \n",
      "3  INDIA  1904  14.4   9.6  31.8  33.1  72.4  164.8  261.0  206.4  129.6   \n",
      "4  INDIA  1905  25.3  20.9  42.7  33.7  55.7   93.3  252.8  200.8  178.4   \n",
      "\n",
      "     OCT   NOV   DEC  ANNUAL  Jan-Feb  Mar-May  Jun-Sep  Oct-Dec  \n",
      "0   52.7  38.0   8.3  1032.3     72.4    108.1    752.8     99.0  \n",
      "1   61.5  27.9  24.4  1030.2     11.7    110.8    794.0    113.8  \n",
      "2  117.9  36.9  17.7  1190.5     25.3    107.9    884.8    172.5  \n",
      "3   69.0  11.2  16.3  1019.8     24.0    137.4    761.8     96.6  \n",
      "4   51.4   9.7  10.5   975.3     46.2    132.2    725.4     71.6  \n"
     ]
    }
   ],
   "source": [
    "import pandas as pd\n",
    "\n",
    "rainfall_data = pd.read_csv(\"D:\\\\Projects\\\\Rainfall-Trend-Analysis-in-India\\\\Rainfall_data.csv\")\n",
    "\n",
    "print(rainfall_data.head())"
   ]
  },
  {
   "cell_type": "markdown",
   "metadata": {},
   "source": []
  }
 ],
 "metadata": {
  "kernelspec": {
   "display_name": "Python 3",
   "language": "python",
   "name": "python3"
  },
  "language_info": {
   "codemirror_mode": {
    "name": "ipython",
    "version": 3
   },
   "file_extension": ".py",
   "mimetype": "text/x-python",
   "name": "python",
   "nbconvert_exporter": "python",
   "pygments_lexer": "ipython3",
   "version": "3.12.4"
  }
 },
 "nbformat": 4,
 "nbformat_minor": 2
}
