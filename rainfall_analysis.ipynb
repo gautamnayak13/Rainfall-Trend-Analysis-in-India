{
 "cells": [
  {
   "cell_type": "markdown",
   "metadata": {},
   "source": [
    "Beginning by loading and exploring the dataset, which contains rainfall data for India from 1901 to 2015. Each record provides monthly, seasonal, and annual rainfall measurements."
   ]
  },
  {
   "cell_type": "code",
   "execution_count": 5,
   "metadata": {},
   "outputs": [
    {
     "name": "stdout",
     "output_type": "stream",
     "text": [
      "First five rows of the data:\n",
      "    REGION  YEAR   JAN   FEB   MAR   APR   MAY    JUN    JUL    AUG    SEP  \\\n",
      "0  INDIA  1901  34.7  37.7  18.0  39.3  50.8  113.4  242.2  272.9  124.4   \n",
      "1  INDIA  1902   7.4   4.3  19.0  43.5  48.3  108.8  284.0  199.7  201.5   \n",
      "2  INDIA  1903  17.0   8.3  31.3  17.1  59.5  118.3  297.0  270.4  199.1   \n",
      "3  INDIA  1904  14.4   9.6  31.8  33.1  72.4  164.8  261.0  206.4  129.6   \n",
      "4  INDIA  1905  25.3  20.9  42.7  33.7  55.7   93.3  252.8  200.8  178.4   \n",
      "\n",
      "     OCT   NOV   DEC  ANNUAL  Jan-Feb  Mar-May  Jun-Sep  Oct-Dec  \n",
      "0   52.7  38.0   8.3  1032.3     72.4    108.1    752.8     99.0  \n",
      "1   61.5  27.9  24.4  1030.2     11.7    110.8    794.0    113.8  \n",
      "2  117.9  36.9  17.7  1190.5     25.3    107.9    884.8    172.5  \n",
      "3   69.0  11.2  16.3  1019.8     24.0    137.4    761.8     96.6  \n",
      "4   51.4   9.7  10.5   975.3     46.2    132.2    725.4     71.6  \n"
     ]
    }
   ],
   "source": [
    "import pandas as pd\n",
    "import numpy as np\n",
    "import seaborn as sns\n",
    "import matplotlib.pyplot as plt\n",
    "from scipy.stats import zscore\n",
    "from statsmodels.tsa.seasonal import seasonal_decompose\n",
    "\n",
    "rainfall_data = pd.read_csv(\"D:\\\\Projects\\\\Rainfall-Trend-Analysis-in-India\\\\Rainfall_data.csv\")\n",
    "\n",
    "print(\"First five rows of the data:\\n \" , rainfall_data.head())"
   ]
  },
  {
   "cell_type": "markdown",
   "metadata": {},
   "source": [
    "Dataset Overview"
   ]
  },
  {
   "cell_type": "code",
   "execution_count": null,
   "metadata": {},
   "outputs": [
    {
     "name": "stdout",
     "output_type": "stream",
     "text": [
      "Summary of the data\n",
      "<class 'pandas.core.frame.DataFrame'>\n",
      "RangeIndex: 115 entries, 0 to 114\n",
      "Data columns (total 19 columns):\n",
      " #   Column   Non-Null Count  Dtype  \n",
      "---  ------   --------------  -----  \n",
      " 0   REGION   115 non-null    object \n",
      " 1   YEAR     115 non-null    int64  \n",
      " 2   JAN      115 non-null    float64\n",
      " 3   FEB      115 non-null    float64\n",
      " 4   MAR      115 non-null    float64\n",
      " 5   APR      115 non-null    float64\n",
      " 6   MAY      115 non-null    float64\n",
      " 7   JUN      115 non-null    float64\n",
      " 8   JUL      115 non-null    float64\n",
      " 9   AUG      115 non-null    float64\n",
      " 10  SEP      115 non-null    float64\n",
      " 11  OCT      115 non-null    float64\n",
      " 12  NOV      115 non-null    float64\n",
      " 13  DEC      115 non-null    float64\n",
      " 14  ANNUAL   115 non-null    float64\n",
      " 15  Jan-Feb  115 non-null    float64\n",
      " 16  Mar-May  115 non-null    float64\n",
      " 17  Jun-Sep  115 non-null    float64\n",
      " 18  Oct-Dec  115 non-null    float64\n",
      "dtypes: float64(17), int64(1), object(1)\n",
      "memory usage: 17.2+ KB\n",
      "None\n"
     ]
    }
   ],
   "source": [
    "print(\"Summary of the data\")\n",
    "print(rainfall_data.info())"
   ]
  },
  {
   "cell_type": "code",
   "execution_count": 21,
   "metadata": {},
   "outputs": [
    {
     "name": "stdout",
     "output_type": "stream",
     "text": [
      "Descriptive Statistics\n",
      "              YEAR         JAN         FEB         MAR         APR  \\\n",
      "count   115.000000  115.000000  115.000000  115.000000  115.000000   \n",
      "mean   1958.000000   19.759130   23.434783   28.254783   38.241739   \n",
      "std      33.341666    9.992628   11.512739   12.286408   10.353040   \n",
      "min    1901.000000    2.700000    2.700000    7.200000   16.100000   \n",
      "25%    1929.500000   13.000000   13.300000   19.750000   31.600000   \n",
      "50%    1958.000000   17.800000   22.500000   25.500000   37.400000   \n",
      "75%    1986.500000   24.850000   30.300000   34.400000   43.850000   \n",
      "max    2015.000000   58.500000   53.800000   63.300000   69.400000   \n",
      "\n",
      "              MAY         JUN         JUL         AUG         SEP         OCT  \\\n",
      "count  115.000000  115.000000  115.000000  115.000000  115.000000  115.000000   \n",
      "mean    62.193913  168.360000  291.022609  258.400870  172.473043   75.701739   \n",
      "std     15.673378   35.569654   41.161390   34.975419   36.641234   28.268152   \n",
      "min     32.100000   86.500000  138.900000  191.700000   96.900000   20.000000   \n",
      "25%     51.600000  144.050000  267.350000  233.950000  144.850000   55.600000   \n",
      "50%     59.500000  165.600000  295.800000  259.300000  173.100000   69.200000   \n",
      "75%     71.200000  192.050000  318.650000  287.950000  198.300000   92.850000   \n",
      "max    114.500000  275.500000  383.400000  335.500000  281.000000  158.800000   \n",
      "\n",
      "              NOV         DEC       ANNUAL     Jan-Feb     Mar-May  \\\n",
      "count  115.000000  115.000000   115.000000  115.000000  115.000000   \n",
      "mean    29.205217   14.980000  1182.034783   43.189565  128.694783   \n",
      "std     16.101056    8.788761   110.686214   14.476335   22.895134   \n",
      "min      3.600000    1.600000   920.800000   11.700000   84.500000   \n",
      "25%     17.300000    9.600000  1102.400000   33.800000  112.350000   \n",
      "50%     26.100000   14.100000  1190.500000   41.300000  125.100000   \n",
      "75%     39.650000   19.000000  1243.550000   51.400000  139.650000   \n",
      "max     74.200000   54.400000  1480.300000   86.300000  209.700000   \n",
      "\n",
      "           Jun-Sep     Oct-Dec  \n",
      "count   115.000000  115.000000  \n",
      "mean    890.260870  119.882609  \n",
      "std      89.179055   32.467126  \n",
      "min     679.500000   52.700000  \n",
      "25%     823.550000   97.050000  \n",
      "50%     897.800000  116.200000  \n",
      "75%     959.650000  142.150000  \n",
      "max    1094.500000  207.500000  \n"
     ]
    }
   ],
   "source": [
    "print(\"Descriptive Statistics\")\n",
    "print(rainfall_data.describe())"
   ]
  },
  {
   "cell_type": "code",
   "execution_count": null,
   "metadata": {},
   "outputs": [],
   "source": []
  }
 ],
 "metadata": {
  "kernelspec": {
   "display_name": "Python 3",
   "language": "python",
   "name": "python3"
  },
  "language_info": {
   "codemirror_mode": {
    "name": "ipython",
    "version": 3
   },
   "file_extension": ".py",
   "mimetype": "text/x-python",
   "name": "python",
   "nbconvert_exporter": "python",
   "pygments_lexer": "ipython3",
   "version": "3.12.4"
  }
 },
 "nbformat": 4,
 "nbformat_minor": 2
}
